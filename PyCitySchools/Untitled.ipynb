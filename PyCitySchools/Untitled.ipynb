{
 "cells": [
  {
   "cell_type": "markdown",
   "id": "b5e45316",
   "metadata": {},
   "source": [
    "# ANALYSIS AND INSIGHT\n",
    "According to the data provided, there are 15 schools divided into two types (District and Charter). There are 39170 students in total, with 19735 females and 19435 males. The total budget for the entire school is $2464928. According to the DataFrame, the number of students is synonymous with the school's budget, with Bailey High School having the most students (4976) and the most money (3124928), and Holden High School having the fewest (427) and the most money (3124928). (248087).\n",
    "\n",
    "Pena High School and Holden High School have the fewest students and the highest average math score of any school, at 83.84 percent and 83.80 percent, respectively. Meanwhile, Huang High School had the lowest math score of 76.63 percent. Pena High School has the most students. 94.6 percent of students passed math. Thomas High School has the highest percentage of students who pass their classes, at 97.31 percent. Cabrera High School has the highest overall passing percentage (91.3%), while Rodriguez High School has the lowest (52.99%).\n",
    "\n",
    "Charter schools have the fewest students, the smallest school budget, and the smallest per-student budget when compared to their District counterparts. Charter school students, on the other hand, appear to be doing much better academically. Charter school students performed best in math and reading, as well as in terms of overall passing percentage. This is demonstrated in the final summary table."
   ]
  },
  {
   "cell_type": "code",
   "execution_count": 1,
   "id": "6acb566a",
   "metadata": {},
   "outputs": [],
   "source": [
    "# Import Dependencies\n",
    "import pandas as pd"
   ]
  },
  {
   "cell_type": "code",
   "execution_count": 2,
   "id": "f600ba3d",
   "metadata": {},
   "outputs": [],
   "source": [
    "# CSV Files imported\n",
    "school_data_to_load = \"Resources/schools_complete.csv\"\n",
    "student_data_to_load = \"Resources/students_complete.csv\""
   ]
  },
  {
   "cell_type": "code",
   "execution_count": 3,
   "id": "d767ca98",
   "metadata": {},
   "outputs": [],
   "source": [
    "# Read School and Student Data File and store into Pandas DataFrames\n",
    "school_data = pd.read_csv(school_data_to_load)\n",
    "student_data = pd.read_csv(student_data_to_load)"
   ]
  },
  {
   "cell_type": "code",
   "execution_count": 4,
   "id": "e43da83b",
   "metadata": {},
   "outputs": [],
   "source": [
    "# To sort the school data dataframe by school name\n",
    "sorted_school_data = school_data.sort_values(\"school_name\")"
   ]
  },
  {
   "cell_type": "code",
   "execution_count": null,
   "id": "1f7dfae1",
   "metadata": {},
   "outputs": [],
   "source": []
  }
 ],
 "metadata": {
  "kernelspec": {
   "display_name": "Python 3 (ipykernel)",
   "language": "python",
   "name": "python3"
  },
  "language_info": {
   "codemirror_mode": {
    "name": "ipython",
    "version": 3
   },
   "file_extension": ".py",
   "mimetype": "text/x-python",
   "name": "python",
   "nbconvert_exporter": "python",
   "pygments_lexer": "ipython3",
   "version": "3.9.12"
  }
 },
 "nbformat": 4,
 "nbformat_minor": 5
}
